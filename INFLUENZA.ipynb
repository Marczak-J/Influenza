{
 "cells": [
  {
   "cell_type": "markdown",
   "metadata": {},
   "source": [
    "---\n",
    "WBT-MBT2-25E <i>Programming Python for Bioinformatics</i> &copy; 2021 Adrian Kania (adrian15x.kania@uj.edu.pl) Department of Computational Biophysics and Bioinformatics, Faculty of Biochemistry, Biophysics and Biotechnology, Jagiellonian University\n",
    "\n",
    "---"
   ]
  },
  {
   "cell_type": "markdown",
   "metadata": {},
   "source": [
    "<p style=\"font-size:15pt;font-weight:bold;border:1px solid;border-color:#aabbcc;padding:15px;background:#ddffee;border-radius:15px\">Mini project: Sequences comparison using an alignment and free-alignment methods </p>"
   ]
  },
  {
   "cell_type": "markdown",
   "metadata": {},
   "source": [
    "We will consider neuraminidase (N) sequences from the avian influenza viruses. This project aims to compare the effectiveness of alignment and free-alignment approaches for sequences comparison. The letter N and H refers to neuraminidase and hemagglutinin type respectively."
   ]
  },
  {
   "cell_type": "markdown",
   "metadata": {},
   "source": [
    "<p style=\"font-size:15pt;font-weight:bold;border:1px solid;border-color:#aabbcc;padding:15px;background:#ddffee;border-radius:15px\">1. Neuraminidase sequences </p>"
   ]
  },
  {
   "cell_type": "markdown",
   "metadata": {},
   "source": [
    "Download sequences and IDs from $influenza\\_viruses$ FASTA file and save them into two lists. Convert nucleotides to upper case. "
   ]
  },
  {
   "cell_type": "code",
   "execution_count": 1,
   "metadata": {},
   "outputs": [],
   "source": [
    "import re"
   ]
  },
  {
   "cell_type": "code",
   "execution_count": 2,
   "metadata": {},
   "outputs": [],
   "source": [
    "IDS = []\n",
    "sequences = []\n",
    "start_pattern = '>.*'\n",
    "\n",
    "with open('influenza_viruses', 'r') as f:\n",
    "    for line in f:\n",
    "        line = line.rstrip()\n",
    "        if re.match(start_pattern, line):\n",
    "            IDS.append(line)\n",
    "        else:\n",
    "             sequences.append(line.upper())"
   ]
  },
  {
   "cell_type": "markdown",
   "metadata": {},
   "source": [
    "To perform steps 2,3 and 4 I recommend creating three separate scripts named: step2.py, step3.py and step4.py in which you append all necessary functions and variables.  <br>\n",
    "\n",
    "- step2.py should contain: DNA dictionary (points for matches and mismatches), SequenceAlign, Profile, ProfileAlign, and the main functions: ProfileMultipleAlignment, Score, SimMatrix\n",
    "- step3.py should contain: MerDict, CompareSequences, MerMatrix\n",
    "- step4.py should contain: WordSeq, LZcomplexity, LZMatrix"
   ]
  },
  {
   "cell_type": "markdown",
   "metadata": {},
   "source": [
    "<p style=\"font-size:15pt;font-weight:bold;border:1px solid;border-color:#aabbcc;padding:15px;background:#ddffee;border-radius:15px\">2. Multiple Sequence Alignment (MSA)  </p>"
   ]
  },
  {
   "cell_type": "code",
   "execution_count": 1,
   "metadata": {},
   "outputs": [
    {
     "name": "stdout",
     "output_type": "stream",
     "text": [
      "['DNA_2', 'Profile', 'ProfileAlign', 'ProfileMultipleAlignment', 'Score', 'SequenceAlign', 'SimMatrix', '__builtins__', '__cached__', '__doc__', '__file__', '__loader__', '__name__', '__package__', '__spec__']\n"
     ]
    }
   ],
   "source": [
    "import step2\n",
    "print(dir(step2))"
   ]
  },
  {
   "cell_type": "code",
   "execution_count": 2,
   "metadata": {},
   "outputs": [],
   "source": [
    "from step2 import DNA_2, SequenceAlign, Profile, ProfileAlign, ProfileMultipleAlignment, Score, SimMatrix"
   ]
  },
  {
   "cell_type": "markdown",
   "metadata": {},
   "source": [
    "Use ProfileMultipleAlignment function to perform the MSA. Put the following points:\n",
    "- match (2), mismatch (-2) (DNA_2 dictionary)\n",
    "- gap insertion/gap extension (4)\n",
    "\n",
    "Save it to an $align$ variable. \n",
    "\n",
    "Use SimMatrix to compare aligned sequences.\n",
    "\n",
    "Build a UPGMA tree and plot it. Make a comment on it. Whether viruses are classified appropriately?"
   ]
  },
  {
   "cell_type": "markdown",
   "metadata": {},
   "source": [
    "<p style=\"font-size:15pt;font-weight:bold;border:1px solid;border-color:#aabbcc;padding:15px;background:#ddffee;border-radius:15px\">3. K-mers </p>"
   ]
  },
  {
   "cell_type": "code",
   "execution_count": 3,
   "metadata": {},
   "outputs": [
    {
     "name": "stdout",
     "output_type": "stream",
     "text": [
      "['CompareSequences', 'DNA_2', 'MerDict', 'MerMatrix', '__builtins__', '__cached__', '__doc__', '__file__', '__loader__', '__name__', '__package__', '__spec__']\n"
     ]
    }
   ],
   "source": [
    "import step3\n",
    "print(dir(step3))"
   ]
  },
  {
   "cell_type": "code",
   "execution_count": 4,
   "metadata": {},
   "outputs": [],
   "source": [
    "from step3 import MerDict, CompareSequences, MerMatrix"
   ]
  },
  {
   "cell_type": "markdown",
   "metadata": {},
   "source": [
    "Use MerMatrix function (with k=3) to compare viruses sequences and use this matrix to construct a phylogenetic tree (UPGMA method). Plot a tree and make a comment on it."
   ]
  },
  {
   "cell_type": "markdown",
   "metadata": {},
   "source": [
    "<p style=\"font-size:15pt;font-weight:bold;border:1px solid;border-color:#aabbcc;padding:15px;background:#ddffee;border-radius:15px\">4. Lempel-Ziv Complexity </p>"
   ]
  },
  {
   "cell_type": "code",
   "execution_count": 8,
   "metadata": {},
   "outputs": [
    {
     "name": "stdout",
     "output_type": "stream",
     "text": [
      "['DNA_2', 'LZMatrix', 'LZcomplexity', 'WordSeq', '__builtins__', '__cached__', '__doc__', '__file__', '__loader__', '__name__', '__package__', '__spec__']\n"
     ]
    }
   ],
   "source": [
    "import step4\n",
    "print(dir(step4))"
   ]
  },
  {
   "cell_type": "code",
   "execution_count": 9,
   "metadata": {},
   "outputs": [],
   "source": [
    "from step4 import WordSeq, LZcomplexity, LZMatrix"
   ]
  },
  {
   "cell_type": "markdown",
   "metadata": {},
   "source": [
    "Use LZMatrix function to compare viruses sequences and use this matrix to construct a phylogenetic tree (UPGMA method). Plot a tree and make a comment on it."
   ]
  },
  {
   "cell_type": "markdown",
   "metadata": {},
   "source": [
    "<p style=\"font-size:15pt;font-weight:bold;border:1px solid;border-color:#aabbcc;padding:15px;background:#ddffee;border-radius:15px\">5. Time consumption </p>"
   ]
  },
  {
   "cell_type": "markdown",
   "metadata": {},
   "source": [
    "Run code from steps 2, 3 and 4 once again but this time measure the time needed to perform calculations. Which method is the fastest, which the slowest?"
   ]
  },
  {
   "cell_type": "code",
   "execution_count": 8,
   "metadata": {},
   "outputs": [
    {
     "name": "stdout",
     "output_type": "stream",
     "text": [
      "0.7230541706085205\n"
     ]
    }
   ],
   "source": [
    "#To measure the execution time you may use time library and calculate the difference between the time before and after part of your code. Below an example:\n",
    "\n",
    "import time\n",
    "start_time = time.time()\n",
    "\n",
    "#############Your code here##########\n",
    "x = [1,2]\n",
    "N = 150000\n",
    "for i in range(N):\n",
    "    x.append(x[-1]+x[-2])\n",
    "#####################################\n",
    "\n",
    "end_time = time.time()\n",
    "seconds = end_time - start_time\n",
    "print(seconds)"
   ]
  },
  {
   "cell_type": "markdown",
   "metadata": {},
   "source": [
    "<p style=\"font-size:15pt;font-weight:bold;border:1px solid;border-color:#aabbcc;padding:15px;background:#ddffee;border-radius:15px\">6. H5N1 viruses and 20 aa deletion </p>"
   ]
  },
  {
   "cell_type": "markdown",
   "metadata": {},
   "source": [
    "It appears that many H5N1 subtype viruses posses a characterisitc 60 nt (20 aa) deletion which causes\n",
    "higher virulence of these viruses. Download neuraminidase protein sequences for A/mandarin_duck/Korea/K10-483/2010(H5N1) [ID: JF699677.1] and A/duck/Hokkaido/w73/2007(H1N1) [ID: AB470663.1] from Nucleotide database finding an appropriate tag (via Python/eutils). Plot a dot matrix and localise this deletion. "
   ]
  },
  {
   "cell_type": "code",
   "execution_count": null,
   "metadata": {},
   "outputs": [],
   "source": [
    "from Bio import Entrez\n",
    "from Bio import SeqIO\n",
    "ID = ['AEA02263', 'BAG85128']\n",
    "seqs = []\n",
    "for elem in ID:\n",
    "    handle = Entrez.efetch(db=\"protein\", id=elem, rettype=\"gb\", retmode=\"text\")\n",
    "    record = SeqIO.read(handle, \"genbank\")\n",
    "    handle.close()\n",
    "    seqs.append(record.seq)\n",
    "print(seqs)\n",
    "print(seqs[1])\n",
    "print(seqs[0])"
   ]
  },
  {
   "cell_type": "markdown",
   "metadata": {},
   "source": [
    "<p style=\"font-size:15pt;font-weight:bold;border:1px solid;border-color:#aabbcc;padding:15px;background:#ddffee;border-radius:15px\">7. Neuraminidase inhibitors </p>"
   ]
  },
  {
   "cell_type": "markdown",
   "metadata": {},
   "source": [
    "There are many drugs classified as neuraminidase inhibitors (NAIs) and one of them is zanamivir. Download the zanamivir SMILES structure from the Pubchem database and plot it."
   ]
  },
  {
   "cell_type": "code",
   "execution_count": 1,
   "metadata": {},
   "outputs": [],
   "source": [
    "from urllib.request import urlopen\n",
    "from lxml import etree\n",
    "\n",
    "molecule = \"zanamivir\"\n",
    "query = f\"https://pubchem.ncbi.nlm.nih.gov/rest/pug/compound/name/{molecule}/XML\"\n",
    "\n",
    "response = urlopen(query)\n",
    "resultxml = response.read()\n",
    "tree = etree.XML(resultxml)\n"
   ]
  },
  {
   "cell_type": "code",
   "execution_count": 2,
   "metadata": {},
   "outputs": [],
   "source": [
    "nam = []\n",
    "for element in tree.iter():\n",
    "    if element.tag == \"{http://www.ncbi.nlm.nih.gov}PC-InfoData_value_sval\": \n",
    "        nam.append(element.text)"
   ]
  },
  {
   "cell_type": "code",
   "execution_count": 3,
   "metadata": {},
   "outputs": [
    {
     "name": "stdout",
     "output_type": "stream",
     "text": [
      "['(2R,3R,4S)-3-acetamido-4-guanidino-2-[(1R,2R)-1,2,3-trihydroxypropyl]-3,4-dihydro-2H-pyran-6-carboxylic acid', 'InChI=1S/C12H20N4O7/c1-4(18)15-8-5(16-12(13)14)2-7(11(21)22)23-10(8)9(20)6(19)3-17/h2,5-6,8-10,17,19-20H,3H2,1H3,(H,15,18)(H,21,22)(H4,13,14,16)/t5-,6+,8+,9+,10+/m0/s1', 'ARAIBEBZBOPLMB-UFGQHTETSA-N', '332.13319899', 'C12H20N4O7', '332.31', 'CC(=O)NC1C(C=C(OC1C(C(CO)O)O)C(=O)O)N=C(N)N', 'CC(=O)N[C@@H]1[C@H](C=C(O[C@H]1[C@@H]([C@@H](CO)O)O)C(=O)O)N=C(N)N', '332.13319899']\n"
     ]
    }
   ],
   "source": [
    "print(nam[5:])"
   ]
  },
  {
   "cell_type": "code",
   "execution_count": 4,
   "metadata": {},
   "outputs": [
    {
     "data": {
      "image/png": "[encoded data removed]",
      "text/plain": [
       "<IPython.core.display.Image object>"
      ]
     },
     "execution_count": 4,
     "metadata": {},
     "output_type": "execute_result"
    }
   ],
   "source": [
    "from urllib.request import urlretrieve\n",
    "from IPython.display import Image\n",
    "\n",
    "\n",
    "smiles = nam[-3]\n",
    "urlretrieve('https://pubchem.ncbi.nlm.nih.gov/rest/pug/compound/smiles/'+smiles+'/PNG', 'smi_pic.png')\n",
    "plot = Image(filename='smi_pic.png')\n",
    "plot"
   ]
  }
 ],
 "metadata": {
  "kernelspec": {
   "display_name": "Python 3",
   "language": "python",
   "name": "python3"
  },
  "language_info": {
   "codemirror_mode": {
    "name": "ipython",
    "version": 3
   },
   "file_extension": ".py",
   "mimetype": "text/x-python",
   "name": "python",
   "nbconvert_exporter": "python",
   "pygments_lexer": "ipython3",
   "version": "3.8.8"
  }
 },
 "nbformat": 4,
 "nbformat_minor": 4
}
